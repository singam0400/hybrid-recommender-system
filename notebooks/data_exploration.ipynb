{
 "cells": [
  {
   "cell_type": "code",
   "execution_count": 1,
   "id": "9ea9f693",
   "metadata": {},
   "outputs": [],
   "source": [
    "\n",
    "import pandas as pd\n",
    "import matplotlib.pyplot as plt\n",
    "import seaborn as sns\n",
    "\n",
    "# Plot style\n",
    "sns.set(style='whitegrid')\n"
   ]
  },
  {
   "cell_type": "code",
   "execution_count": 2,
   "id": "81fbae3e",
   "metadata": {},
   "outputs": [
    {
     "data": {
      "text/html": [
       "<div>\n",
       "<style scoped>\n",
       "    .dataframe tbody tr th:only-of-type {\n",
       "        vertical-align: middle;\n",
       "    }\n",
       "\n",
       "    .dataframe tbody tr th {\n",
       "        vertical-align: top;\n",
       "    }\n",
       "\n",
       "    .dataframe thead th {\n",
       "        text-align: right;\n",
       "    }\n",
       "</style>\n",
       "<table border=\"1\" class=\"dataframe\">\n",
       "  <thead>\n",
       "    <tr style=\"text-align: right;\">\n",
       "      <th></th>\n",
       "      <th>timestamp</th>\n",
       "      <th>user_id</th>\n",
       "      <th>action</th>\n",
       "      <th>product_id</th>\n",
       "      <th>transactionid</th>\n",
       "    </tr>\n",
       "  </thead>\n",
       "  <tbody>\n",
       "    <tr>\n",
       "      <th>0</th>\n",
       "      <td>1433221332117</td>\n",
       "      <td>257597</td>\n",
       "      <td>view</td>\n",
       "      <td>355908</td>\n",
       "      <td>NaN</td>\n",
       "    </tr>\n",
       "    <tr>\n",
       "      <th>1</th>\n",
       "      <td>1433224214164</td>\n",
       "      <td>992329</td>\n",
       "      <td>view</td>\n",
       "      <td>248676</td>\n",
       "      <td>NaN</td>\n",
       "    </tr>\n",
       "    <tr>\n",
       "      <th>2</th>\n",
       "      <td>1433221999827</td>\n",
       "      <td>111016</td>\n",
       "      <td>view</td>\n",
       "      <td>318965</td>\n",
       "      <td>NaN</td>\n",
       "    </tr>\n",
       "    <tr>\n",
       "      <th>3</th>\n",
       "      <td>1433221955914</td>\n",
       "      <td>483717</td>\n",
       "      <td>view</td>\n",
       "      <td>253185</td>\n",
       "      <td>NaN</td>\n",
       "    </tr>\n",
       "    <tr>\n",
       "      <th>4</th>\n",
       "      <td>1433221337106</td>\n",
       "      <td>951259</td>\n",
       "      <td>view</td>\n",
       "      <td>367447</td>\n",
       "      <td>NaN</td>\n",
       "    </tr>\n",
       "  </tbody>\n",
       "</table>\n",
       "</div>"
      ],
      "text/plain": [
       "       timestamp  user_id action  product_id  transactionid\n",
       "0  1433221332117   257597   view      355908            NaN\n",
       "1  1433224214164   992329   view      248676            NaN\n",
       "2  1433221999827   111016   view      318965            NaN\n",
       "3  1433221955914   483717   view      253185            NaN\n",
       "4  1433221337106   951259   view      367447            NaN"
      ]
     },
     "execution_count": 2,
     "metadata": {},
     "output_type": "execute_result"
    }
   ],
   "source": [
    "# 2. Load Interactions Dataset (Sample 50k rows)\n",
    "interactions = pd.read_csv(\"../data/interactions.csv\", nrows=10000)\n",
    "\n",
    "# Only keep standard events\n",
    "interactions = interactions[interactions['event'].isin(['view', 'addtocart', 'transaction'])]\n",
    "\n",
    "# Rename for clarity\n",
    "interactions.rename(columns={\n",
    "    'visitorid': 'user_id',\n",
    "    'itemid': 'product_id',\n",
    "    'event': 'action'\n",
    "}, inplace=True)\n",
    "\n",
    "interactions.head()\n"
   ]
  },
  {
   "cell_type": "code",
   "execution_count": 8,
   "id": "0aac4577",
   "metadata": {},
   "outputs": [
    {
     "data": {
      "image/png": "[encoded data removed]",
      "text/plain": [
       "<Figure size 600x400 with 1 Axes>"
      ]
     },
     "metadata": {},
     "output_type": "display_data"
    }
   ],
   "source": [
    "#  3. Distribution of Action Types\n",
    "plt.figure(figsize=(6, 4))\n",
    "sns.countplot(data=interactions, x='action', order=['view', 'addtocart', 'transaction'])\n",
    "plt.title(\"Distribution of User Actions\")\n",
    "plt.xlabel(\"Action Type\")\n",
    "plt.ylabel(\"Count\")\n",
    "plt.show()\n"
   ]
  },
  {
   "cell_type": "code",
   "execution_count": 9,
   "id": "f263b5e1",
   "metadata": {},
   "outputs": [
    {
     "name": "stdout",
     "output_type": "stream",
     "text": [
      "Top 10 Most Active Users:\n",
      "user_id\n",
      "286616     101\n",
      "820159      73\n",
      "350566      45\n",
      "404403      39\n",
      "1093035     38\n",
      "1235292     33\n",
      "307542      32\n",
      "322407      24\n",
      "1210904     24\n",
      "173858      23\n",
      "Name: count, dtype: int64\n"
     ]
    }
   ],
   "source": [
    "#  4. Most Active Users\n",
    "top_users = interactions['user_id'].value_counts().head(10)\n",
    "print(\"Top 10 Most Active Users:\")\n",
    "print(top_users)\n"
   ]
  },
  {
   "cell_type": "code",
   "execution_count": 10,
   "id": "89d8d1bf",
   "metadata": {},
   "outputs": [
    {
     "name": "stdout",
     "output_type": "stream",
     "text": [
      "Top 10 Most Interacted Products:\n",
      "product_id\n",
      "355994    19\n",
      "370653    19\n",
      "315543    18\n",
      "298009    15\n",
      "335975    13\n",
      "235224    12\n",
      "42002     11\n",
      "428257    11\n",
      "299044    11\n",
      "393111    10\n",
      "Name: count, dtype: int64\n"
     ]
    }
   ],
   "source": [
    "#  5. Most Popular Products\n",
    "top_products = interactions['product_id'].value_counts().head(10)\n",
    "print(\"Top 10 Most Interacted Products:\")\n",
    "print(top_products)\n"
   ]
  },
  {
   "cell_type": "code",
   "execution_count": 12,
   "id": "e6bc92c2",
   "metadata": {},
   "outputs": [
    {
     "name": "stdout",
     "output_type": "stream",
     "text": [
      " Users: 6957\n",
      " Products: 7196\n",
      " Interactions: 10000\n",
      " Sparsity of Interaction Matrix: 0.9998\n"
     ]
    }
   ],
   "source": [
    "#  6. Sparsity of the User-Product Interaction Matrix\n",
    "n_users = interactions['user_id'].nunique()\n",
    "n_products = interactions['product_id'].nunique()\n",
    "n_interactions = len(interactions)\n",
    "\n",
    "total_possible = n_users * n_products\n",
    "sparsity = 1 - (n_interactions / total_possible)\n",
    "\n",
    "print(f\" Users: {n_users}\")\n",
    "print(f\" Products: {n_products}\")\n",
    "print(f\" Interactions: {n_interactions}\")\n",
    "print(f\" Sparsity of Interaction Matrix: {sparsity:.4f}\")\n"
   ]
  },
  {
   "cell_type": "code",
   "execution_count": 13,
   "id": "edfab1d8",
   "metadata": {},
   "outputs": [
    {
     "data": {
      "image/png": "[encoded data removed]",
      "text/plain": [
       "<Figure size 600x400 with 1 Axes>"
      ]
     },
     "metadata": {},
     "output_type": "display_data"
    }
   ],
   "source": [
    "#  7. Conversion Funnel: Views → Cart → Purchase\n",
    "plt.figure(figsize=(6, 4))\n",
    "funnel = interactions['action'].value_counts(normalize=True).loc[['view', 'addtocart', 'transaction']]\n",
    "funnel.plot(kind='barh')\n",
    "plt.title(\"Conversion Funnel\")\n",
    "plt.xlabel(\"Percentage of Actions\")\n",
    "plt.show()\n"
   ]
  },
  {
   "cell_type": "code",
   "execution_count": null,
   "id": "a03af8fd",
   "metadata": {},
   "outputs": [],
   "source": []
  }
 ],
 "metadata": {
  "kernelspec": {
   "display_name": "Python 3 (ipykernel)",
   "language": "python",
   "name": "python3"
  },
  "language_info": {
   "codemirror_mode": {
    "name": "ipython",
    "version": 3
   },
   "file_extension": ".py",
   "mimetype": "text/x-python",
   "name": "python",
   "nbconvert_exporter": "python",
   "pygments_lexer": "ipython3",
   "version": "3.11.5"
  }
 },
 "nbformat": 4,
 "nbformat_minor": 5
}
